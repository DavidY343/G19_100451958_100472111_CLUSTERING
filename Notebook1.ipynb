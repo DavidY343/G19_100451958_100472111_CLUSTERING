{
 "cells": [
  {
   "cell_type": "markdown",
   "metadata": {},
   "source": [
    "Lo prmiero que hay que ahcer, creamos dos pipelines, en las dos cargamos el csv, en una pasamos las columna de varaibles categoricas a ordinalidad, en la otra hacemos un one hot encoding. (El one hto encodigin es malillo porque perdemos la informacion de de cual es mas caliente o frio y la distantcion entre la que estas, mejor es usar la ordinalidad).Luego en ambas hacemos un Pca, hay que hacer pca con parametros de 95% de la varianza de los datos. Y ya despues clustering."
   ]
  },
  {
   "cell_type": "code",
   "execution_count": null,
   "metadata": {},
   "outputs": [],
   "source": []
  }
 ],
 "metadata": {
  "language_info": {
   "name": "python"
  }
 },
 "nbformat": 4,
 "nbformat_minor": 2
}
